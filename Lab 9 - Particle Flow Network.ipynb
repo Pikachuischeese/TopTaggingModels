{
 "cells": [
  {
   "cell_type": "code",
   "execution_count": 1,
   "id": "63876f78",
   "metadata": {},
   "outputs": [],
   "source": [
    "\n",
    "import tqdm\n",
    "import numpy as np\n",
    "import matplotlib.pyplot as plt\n",
    "import torch\n",
    "import seaborn as sns\n",
    "import IPython\n",
    "import os\n",
    "import math\n",
    "\n",
    "import torch"
   ]
  },
  {
   "cell_type": "code",
   "execution_count": null,
   "id": "ad3ffc39",
   "metadata": {},
   "outputs": [],
   "source": []
  },
  {
   "cell_type": "code",
   "execution_count": 2,
   "id": "40ad3019",
   "metadata": {},
   "outputs": [
    {
     "name": "stderr",
     "output_type": "stream",
     "text": [
      " 24%|█████████████████▋                                                       | 240000/987684 [04:50<15:04, 826.77it/s]\n"
     ]
    }
   ],
   "source": [
    "os.chdir('C:/Users/trist/Downloads/jets/jets')\n",
    "\n",
    "train = 200000\n",
    "test = 20000\n",
    "val = 20000\n",
    "\n",
    "files = train+test+val\n",
    "count = 0\n",
    "\n",
    "num_constituents = 100\n",
    "num_features = 4\n",
    "num_classes = 5\n",
    "\n",
    "input_feature_values = np.zeros((files,num_features,num_constituents)) #Form (N,C,P) \n",
    "targets = np.zeros((files,num_classes))\n",
    "for file in tqdm.tqdm(os.listdir()):\n",
    "    if files <= count:\n",
    "        break\n",
    "    with np.load(file) as data:\n",
    "\n",
    "        input_val = data['x'][:,1:] #Info on eta, phi, energy, R\n",
    "        input_val[:,2] = 2*np.maximum(np.log(input_val[:,2])+13,0*input_val[:,2])/13 #Scales data to around 0-2\n",
    "\n",
    "        if len(input_val) > num_constituents:\n",
    "            input_val = input_val[:num_constituents]\n",
    "        else:\n",
    "            input_val = np.pad(input_val, ((0,num_constituents-len(input_val)),(0,0)), 'constant') #Zero padding to make contiguous\n",
    "\n",
    "        input_feature_values[count] = input_val.T #Transpose so of form (N,C,P)       \n",
    "        targets[count] = np.reshape(data['y'],(1,5))\n",
    "        count += 1"
   ]
  },
  {
   "cell_type": "code",
   "execution_count": 3,
   "id": "ccc2aea5",
   "metadata": {},
   "outputs": [
    {
     "name": "stdout",
     "output_type": "stream",
     "text": [
      "[1. 0. 0. 0. 0.]\n",
      "[[-0.00000000e+00 -1.07198460e-02 -2.81282309e-02 -5.46307769e-03\n",
      "   1.69488508e-03 -2.47465335e-02 -2.90216580e-02  1.78072578e-03\n",
      "  -2.25291047e-02 -5.20522334e-03 -2.86652241e-02 -4.26899269e-03\n",
      "  -7.69114867e-03 -1.34355836e-02 -3.43648046e-02 -1.42659480e-02\n",
      "  -1.58805661e-02 -2.82836761e-02 -3.30038406e-02 -3.77037115e-02\n",
      "   7.94646703e-03  8.59526731e-03  1.47442827e-02  4.80596907e-03\n",
      "  -2.61173621e-02  3.25068226e-03 -2.07644259e-03 -4.32132371e-02\n",
      "  -2.67829280e-02 -2.92214192e-02 -3.41079682e-02 -1.45875914e-02\n",
      "  -6.88248221e-03  4.90555279e-02  2.82599939e-14 -9.23825987e-03\n",
      "  -1.92290656e-02  1.02186883e-02  1.86074898e-02 -2.78790109e-03\n",
      "  -1.23392995e-02 -6.32671639e-02 -1.27385825e-01 -4.45788503e-02\n",
      "  -1.86683368e-02  2.33146176e-02  6.82846382e-02 -1.41734176e-03\n",
      "  -2.87821386e-02 -1.08740047e-01 -7.83728212e-02 -3.59309539e-02\n",
      "   5.39334975e-02  1.72874629e-01 -7.05009550e-02 -5.31759523e-02\n",
      "  -3.04253399e-02  3.55592251e-01 -3.10482651e-01 -2.53322348e-03\n",
      "  -1.88673154e-01  5.94816953e-02  3.72182310e-01 -1.00856461e-01\n",
      "  -2.00572759e-01  0.00000000e+00  0.00000000e+00  0.00000000e+00\n",
      "   0.00000000e+00  0.00000000e+00  0.00000000e+00  0.00000000e+00\n",
      "   0.00000000e+00  0.00000000e+00  0.00000000e+00  0.00000000e+00\n",
      "   0.00000000e+00  0.00000000e+00  0.00000000e+00  0.00000000e+00\n",
      "   0.00000000e+00  0.00000000e+00  0.00000000e+00  0.00000000e+00\n",
      "   0.00000000e+00  0.00000000e+00  0.00000000e+00  0.00000000e+00\n",
      "   0.00000000e+00  0.00000000e+00  0.00000000e+00  0.00000000e+00\n",
      "   0.00000000e+00  0.00000000e+00  0.00000000e+00  0.00000000e+00\n",
      "   0.00000000e+00  0.00000000e+00  0.00000000e+00  0.00000000e+00]\n",
      " [ 0.00000000e+00 -8.62853322e-03 -7.65424445e-02  7.24645052e-03\n",
      "  -7.21896766e-03 -6.61470965e-02  3.67840199e-04 -3.73377767e-03\n",
      "   3.01968044e-04 -8.77160300e-03  1.54541098e-02 -1.58229060e-02\n",
      "  -7.81332254e-02  3.71478120e-04 -8.08854308e-03 -1.62533280e-02\n",
      "   8.05678125e-03  6.32043183e-03 -6.21278323e-02 -1.75940860e-02\n",
      "   4.66205040e-03 -5.66647854e-03 -3.08791436e-02 -2.10176110e-02\n",
      "  -6.05735928e-02 -1.41183212e-02 -6.93903938e-02  2.48558763e-02\n",
      "  -8.96462798e-02 -8.23087469e-02 -7.32291862e-02  2.40049530e-02\n",
      "  -1.73055399e-02 -8.69852826e-02 -1.12526871e-01 -7.12480247e-02\n",
      "  -5.90216406e-02  9.96740982e-02 -1.79151651e-02 -1.99889168e-02\n",
      "  -5.74717261e-02 -6.71129525e-02 -3.92251648e-03 -4.30213995e-02\n",
      "  -1.41871169e-01 -2.07069777e-02 -2.11547017e-02  6.58015069e-03\n",
      "  -6.47929162e-02 -3.22645605e-02  9.46657583e-02 -1.26123995e-01\n",
      "   6.61701038e-02  1.73591763e-01  1.21668249e-01 -8.47794712e-02\n",
      "  -1.69584975e-01 -1.55037493e-01 -7.24097431e-01 -4.54551773e-03\n",
      "  -1.24008760e-01  1.68257639e-01  7.50564933e-02 -2.35332876e-01\n",
      "  -1.63212761e-01  0.00000000e+00  0.00000000e+00  0.00000000e+00\n",
      "   0.00000000e+00  0.00000000e+00  0.00000000e+00  0.00000000e+00\n",
      "   0.00000000e+00  0.00000000e+00  0.00000000e+00  0.00000000e+00\n",
      "   0.00000000e+00  0.00000000e+00  0.00000000e+00  0.00000000e+00\n",
      "   0.00000000e+00  0.00000000e+00  0.00000000e+00  0.00000000e+00\n",
      "   0.00000000e+00  0.00000000e+00  0.00000000e+00  0.00000000e+00\n",
      "   0.00000000e+00  0.00000000e+00  0.00000000e+00  0.00000000e+00\n",
      "   0.00000000e+00  0.00000000e+00  0.00000000e+00  0.00000000e+00\n",
      "   0.00000000e+00  0.00000000e+00  0.00000000e+00  0.00000000e+00]\n",
      " [ 1.68841505e+00  1.63396513e+00  1.61594391e+00  1.57595420e+00\n",
      "   1.55127716e+00  1.52948821e+00  1.51311803e+00  1.50821471e+00\n",
      "   1.48575890e+00  1.43687308e+00  1.42281425e+00  1.41855133e+00\n",
      "   1.42118502e+00  1.39889503e+00  1.38996935e+00  1.38923752e+00\n",
      "   1.38565087e+00  1.38069594e+00  1.37474823e+00  1.35148263e+00\n",
      "   1.33914053e+00  1.32906282e+00  1.32768369e+00  1.31904852e+00\n",
      "   1.32122982e+00  1.31066155e+00  1.30176461e+00  1.28936827e+00\n",
      "   1.26642370e+00  1.26035643e+00  1.23172402e+00  1.19428051e+00\n",
      "   1.18736720e+00  1.18065143e+00  1.17579794e+00  1.16697264e+00\n",
      "   1.16261721e+00  1.10946727e+00  1.11496186e+00  1.10532153e+00\n",
      "   1.09279180e+00  1.08235025e+00  1.07975101e+00  1.06657422e+00\n",
      "   1.03644681e+00  1.01653504e+00  1.01123261e+00  1.01114273e+00\n",
      "   1.01946330e+00  1.01545024e+00  9.93071616e-01  1.00008273e+00\n",
      "   9.45818305e-01  9.30229127e-01  9.41503644e-01  9.58535075e-01\n",
      "   9.42319632e-01  8.45690370e-01  9.54450250e-01  8.03342521e-01\n",
      "   8.26045930e-01  7.80479968e-01  7.49709070e-01  7.75159717e-01\n",
      "   2.94648975e-01  0.00000000e+00  0.00000000e+00  0.00000000e+00\n",
      "   0.00000000e+00  0.00000000e+00  0.00000000e+00  0.00000000e+00\n",
      "   0.00000000e+00  0.00000000e+00  0.00000000e+00  0.00000000e+00\n",
      "   0.00000000e+00  0.00000000e+00  0.00000000e+00  0.00000000e+00\n",
      "   0.00000000e+00  0.00000000e+00  0.00000000e+00  0.00000000e+00\n",
      "   0.00000000e+00  0.00000000e+00  0.00000000e+00  0.00000000e+00\n",
      "   0.00000000e+00  0.00000000e+00  0.00000000e+00  0.00000000e+00\n",
      "   0.00000000e+00  0.00000000e+00  0.00000000e+00  0.00000000e+00\n",
      "   0.00000000e+00  0.00000000e+00  0.00000000e+00  0.00000000e+00]\n",
      " [ 2.40592603e-02  1.19484803e-02  5.82820699e-02  2.85935830e-02\n",
      "   1.95569582e-02  4.73389663e-02  2.63852514e-02  2.21134946e-02\n",
      "   2.28985287e-02  1.38640190e-02  3.92259136e-02  9.63824894e-03\n",
      "   5.80183864e-02  2.07861103e-02  2.48780809e-02  4.41864040e-03\n",
      "   2.86309812e-02  3.09083667e-02  4.64249477e-02  2.51155663e-02\n",
      "   3.25053930e-02  2.59381142e-02  2.94266678e-02  1.75679177e-02\n",
      "   4.23744023e-02  1.71909146e-02  5.01820929e-02  5.45389466e-02\n",
      "   7.07657337e-02  6.41516000e-02  5.70499301e-02  4.44443971e-02\n",
      "   6.63406262e-03  9.08761770e-02  9.31848362e-02  5.10179587e-02\n",
      "   3.91911753e-02  1.22382283e-01  3.14564742e-02  9.97068081e-03\n",
      "   3.70993651e-02  6.88731372e-02  1.15611412e-01  3.90680321e-02\n",
      "   1.22016378e-01  3.60658988e-02  8.09893087e-02  2.92664524e-02\n",
      "   4.72435467e-02  9.66662392e-02  1.32329226e-01  1.08550869e-01\n",
      "   1.09336704e-01  2.69572854e-01  1.53288484e-01  7.61370808e-02\n",
      "   1.50941849e-01  3.84605289e-01  8.41099322e-01  1.88638251e-02\n",
      "   2.04485312e-01  2.02818483e-01  3.91860634e-01  2.34603405e-01\n",
      "   2.36868218e-01  0.00000000e+00  0.00000000e+00  0.00000000e+00\n",
      "   0.00000000e+00  0.00000000e+00  0.00000000e+00  0.00000000e+00\n",
      "   0.00000000e+00  0.00000000e+00  0.00000000e+00  0.00000000e+00\n",
      "   0.00000000e+00  0.00000000e+00  0.00000000e+00  0.00000000e+00\n",
      "   0.00000000e+00  0.00000000e+00  0.00000000e+00  0.00000000e+00\n",
      "   0.00000000e+00  0.00000000e+00  0.00000000e+00  0.00000000e+00\n",
      "   0.00000000e+00  0.00000000e+00  0.00000000e+00  0.00000000e+00\n",
      "   0.00000000e+00  0.00000000e+00  0.00000000e+00  0.00000000e+00\n",
      "   0.00000000e+00  0.00000000e+00  0.00000000e+00  0.00000000e+00]]\n",
      "(4, 100)\n"
     ]
    }
   ],
   "source": [
    "\n",
    "print(targets[0])\n",
    "\n",
    "print(input_feature_values[0])\n",
    "\n",
    "print(input_feature_values[0].shape)"
   ]
  },
  {
   "cell_type": "code",
   "execution_count": 4,
   "id": "e0dc6b17",
   "metadata": {},
   "outputs": [
    {
     "name": "stdout",
     "output_type": "stream",
     "text": [
      "(20000, 5)\n"
     ]
    }
   ],
   "source": [
    "from torch.utils.data import Dataset, DataLoader\n",
    "\n",
    "class CustomDataset(Dataset):\n",
    "    def __init__(self, YUUKI, target):\n",
    "        self.inputs = YUUKI\n",
    "        self.target = target\n",
    "    def __len__(self):\n",
    "            return len(self.target)\n",
    "    def __getitem__(self, idx):\n",
    "            inputs = self.inputs[idx]\n",
    "            target = self.target[idx]\n",
    "            sample = {\"input\": inputs, \"target\": target}\n",
    "            return sample\n",
    "        \n",
    "train_Dataset = CustomDataset(input_feature_values[:train], targets[:train])\n",
    "print(targets[train:train+test].shape)\n",
    "test_Dataset = CustomDataset(input_feature_values[train:train+test], targets[train:train+test])\n",
    "val_Dataset = CustomDataset(input_feature_values[-val:], targets[-val:])"
   ]
  },
  {
   "cell_type": "code",
   "execution_count": 5,
   "id": "4589e643",
   "metadata": {},
   "outputs": [],
   "source": [
    "#Taken from https://github.com/jet-universe/particle_transformer/blob/main/networks/example_PFN.py\n",
    "\n",
    "import torch.nn as nn\n",
    "\n",
    "class ParticleFlowNetwork(nn.Module):\n",
    "    r\"\"\"Parameters\n",
    "    ----------\n",
    "    input_dims : int\n",
    "        Input feature dimensions.\n",
    "    num_classes : int\n",
    "        Number of output classes.\n",
    "    layer_params : list\n",
    "        List of the feature size for each layer.\n",
    "    \"\"\"\n",
    "\n",
    "    def __init__(self, input_dims, num_classes,\n",
    "                 Phi_sizes=(100, 100, 128),\n",
    "                 F_sizes=(100, 100, 100),\n",
    "                 use_bn=True,\n",
    "                 for_inference=False,\n",
    "                 **kwargs):\n",
    "\n",
    "        super(ParticleFlowNetwork, self).__init__(**kwargs)\n",
    "        # input bn\n",
    "        self.input_bn = nn.BatchNorm1d(input_dims) if use_bn else nn.Identity()\n",
    "        # per-particle functions\n",
    "        phi_layers = []\n",
    "        for i in range(len(Phi_sizes)):\n",
    "            phi_layers.append(nn.Sequential(\n",
    "                nn.Conv1d(input_dims if i == 0 else Phi_sizes[i - 1], Phi_sizes[i], kernel_size=1),\n",
    "                nn.BatchNorm1d(Phi_sizes[i]) if use_bn else nn.Identity(),\n",
    "                nn.ReLU())\n",
    "            )\n",
    "        self.phi = nn.Sequential(*phi_layers)\n",
    "        \n",
    "        # global functions\n",
    "        f_layers = []\n",
    "        for i in range(len(F_sizes)):\n",
    "            f_layers.append(nn.Sequential(\n",
    "                nn.Linear(Phi_sizes[-1] if i == 0 else F_sizes[i - 1], F_sizes[i]),\n",
    "                nn.ReLU())\n",
    "            )\n",
    "        f_layers.append(nn.Linear(F_sizes[-1], num_classes))\n",
    "        if for_inference:\n",
    "            f_layers.append(nn.Softmax(dim=1))\n",
    "        self.fc = nn.Sequential(*f_layers)\n",
    "\n",
    "    def forward(self, features, mask):\n",
    "        # x: the feature vector initally read from the data structure, in dimension (N, C, P)\n",
    "        x = self.input_bn(features)\n",
    "        x = self.phi(x)\n",
    "        if mask is not None:\n",
    "            x = x * mask.bool().float()\n",
    "        x = x.sum(-1)\n",
    "        return self.fc(x)"
   ]
  },
  {
   "cell_type": "code",
   "execution_count": null,
   "id": "1b9772e6",
   "metadata": {},
   "outputs": [],
   "source": []
  },
  {
   "cell_type": "code",
   "execution_count": 19,
   "id": "ae537ff3",
   "metadata": {},
   "outputs": [],
   "source": [
    "learning_rate = 1e-3\n",
    "epochs = 30\n",
    "batch_size = 32\n",
    "\n",
    "model = ParticleFlowNetwork(4,5,Phi_sizes=(256, 192, 128), F_sizes=(100, 100, 100),use_bn=True)\n",
    "model.cuda()\n",
    "\n",
    "loss_func = torch.nn.CrossEntropyLoss()\n",
    "optimizer = torch.optim.Adam(model.parameters(), lr=learning_rate)"
   ]
  },
  {
   "cell_type": "code",
   "execution_count": 20,
   "id": "1f19c3e4",
   "metadata": {},
   "outputs": [],
   "source": [
    "train_DataLoader = DataLoader(train_Dataset, batch_size=batch_size, shuffle=True)\n",
    "test_DataLoader = DataLoader(test_Dataset, batch_size=batch_size, shuffle=True)\n",
    "val_DataLoader = DataLoader(val_Dataset, batch_size=batch_size, shuffle=True)"
   ]
  },
  {
   "cell_type": "code",
   "execution_count": 21,
   "id": "54398cfb",
   "metadata": {},
   "outputs": [
    {
     "name": "stdout",
     "output_type": "stream",
     "text": [
      "torch.Size([32, 4, 100]) torch.Size([32, 5])\n",
      "<class 'torch.Tensor'> torch.Size([32, 5])\n"
     ]
    }
   ],
   "source": [
    "train_loss_list = []\n",
    "train_accuracy_list = []\n",
    "validation_accuracy_list = []\n",
    "\n",
    "data = next(iter(train_DataLoader))\n",
    "print(data['input'].shape,data['target'].shape)\n",
    "print(type(data['input'][1,1,1]),data['target'].shape)\n"
   ]
  },
  {
   "cell_type": "code",
   "execution_count": 22,
   "id": "79971049",
   "metadata": {
    "scrolled": false
   },
   "outputs": [
    {
     "name": "stderr",
     "output_type": "stream",
     "text": [
      "  3%|██▊                                                                                | 1/30 [00:47<23:09, 47.92s/it]"
     ]
    },
    {
     "name": "stdout",
     "output_type": "stream",
     "text": [
      "Epoch 0: 0.71125\n"
     ]
    },
    {
     "name": "stderr",
     "output_type": "stream",
     "text": [
      "\r",
      "  7%|█████▌                                                                             | 2/30 [01:33<21:36, 46.32s/it]"
     ]
    },
    {
     "name": "stdout",
     "output_type": "stream",
     "text": [
      "Epoch 1: 0.712\n"
     ]
    },
    {
     "name": "stderr",
     "output_type": "stream",
     "text": [
      "\r",
      " 10%|████████▎                                                                          | 3/30 [02:19<20:57, 46.56s/it]"
     ]
    },
    {
     "name": "stdout",
     "output_type": "stream",
     "text": [
      "Epoch 2: 0.6923\n"
     ]
    },
    {
     "name": "stderr",
     "output_type": "stream",
     "text": [
      "\r",
      " 13%|███████████                                                                        | 4/30 [03:06<20:05, 46.36s/it]"
     ]
    },
    {
     "name": "stdout",
     "output_type": "stream",
     "text": [
      "Epoch 3: 0.7273\n"
     ]
    },
    {
     "name": "stderr",
     "output_type": "stream",
     "text": [
      "\r",
      " 17%|█████████████▊                                                                     | 5/30 [03:52<19:21, 46.47s/it]"
     ]
    },
    {
     "name": "stdout",
     "output_type": "stream",
     "text": [
      "Epoch 4: 0.73915\n"
     ]
    },
    {
     "name": "stderr",
     "output_type": "stream",
     "text": [
      "\r",
      " 20%|████████████████▌                                                                  | 6/30 [04:40<18:42, 46.77s/it]"
     ]
    },
    {
     "name": "stdout",
     "output_type": "stream",
     "text": [
      "Epoch 5: 0.7436\n"
     ]
    },
    {
     "name": "stderr",
     "output_type": "stream",
     "text": [
      "\r",
      " 23%|███████████████████▎                                                               | 7/30 [05:26<17:56, 46.80s/it]"
     ]
    },
    {
     "name": "stdout",
     "output_type": "stream",
     "text": [
      "Epoch 6: 0.7452\n"
     ]
    },
    {
     "name": "stderr",
     "output_type": "stream",
     "text": [
      "\r",
      " 27%|██████████████████████▏                                                            | 8/30 [06:13<17:05, 46.59s/it]"
     ]
    },
    {
     "name": "stdout",
     "output_type": "stream",
     "text": [
      "Epoch 7: 0.7438\n"
     ]
    },
    {
     "name": "stderr",
     "output_type": "stream",
     "text": [
      "\r",
      " 30%|████████████████████████▉                                                          | 9/30 [07:00<16:23, 46.81s/it]"
     ]
    },
    {
     "name": "stdout",
     "output_type": "stream",
     "text": [
      "Epoch 8: 0.7515\n"
     ]
    },
    {
     "name": "stderr",
     "output_type": "stream",
     "text": [
      "\r",
      " 33%|███████████████████████████▎                                                      | 10/30 [07:49<15:49, 47.46s/it]"
     ]
    },
    {
     "name": "stdout",
     "output_type": "stream",
     "text": [
      "Epoch 9: 0.75435\n"
     ]
    },
    {
     "name": "stderr",
     "output_type": "stream",
     "text": [
      "\r",
      " 37%|██████████████████████████████                                                    | 11/30 [08:39<15:20, 48.44s/it]"
     ]
    },
    {
     "name": "stdout",
     "output_type": "stream",
     "text": [
      "Epoch 10: 0.75675\n"
     ]
    },
    {
     "name": "stderr",
     "output_type": "stream",
     "text": [
      "\r",
      " 40%|████████████████████████████████▊                                                 | 12/30 [09:26<14:23, 47.95s/it]"
     ]
    },
    {
     "name": "stdout",
     "output_type": "stream",
     "text": [
      "Epoch 11: 0.76275\n"
     ]
    },
    {
     "name": "stderr",
     "output_type": "stream",
     "text": [
      "\r",
      " 43%|███████████████████████████████████▌                                              | 13/30 [10:12<13:22, 47.21s/it]"
     ]
    },
    {
     "name": "stdout",
     "output_type": "stream",
     "text": [
      "Epoch 12: 0.758\n"
     ]
    },
    {
     "name": "stderr",
     "output_type": "stream",
     "text": [
      "\r",
      " 47%|██████████████████████████████████████▎                                           | 14/30 [10:57<12:25, 46.57s/it]"
     ]
    },
    {
     "name": "stdout",
     "output_type": "stream",
     "text": [
      "Epoch 13: 0.76095\n"
     ]
    },
    {
     "name": "stderr",
     "output_type": "stream",
     "text": [
      "\r",
      " 50%|█████████████████████████████████████████                                         | 15/30 [11:42<11:33, 46.20s/it]"
     ]
    },
    {
     "name": "stdout",
     "output_type": "stream",
     "text": [
      "Epoch 14: 0.76085\n"
     ]
    },
    {
     "name": "stderr",
     "output_type": "stream",
     "text": [
      "\r",
      " 53%|███████████████████████████████████████████▋                                      | 16/30 [12:27<10:41, 45.85s/it]"
     ]
    },
    {
     "name": "stdout",
     "output_type": "stream",
     "text": [
      "Epoch 15: 0.7551\n"
     ]
    },
    {
     "name": "stderr",
     "output_type": "stream",
     "text": [
      "\r",
      " 57%|██████████████████████████████████████████████▍                                   | 17/30 [13:12<09:52, 45.56s/it]"
     ]
    },
    {
     "name": "stdout",
     "output_type": "stream",
     "text": [
      "Epoch 16: 0.7645\n"
     ]
    },
    {
     "name": "stderr",
     "output_type": "stream",
     "text": [
      "\r",
      " 60%|█████████████████████████████████████████████████▏                                | 18/30 [14:00<09:13, 46.14s/it]"
     ]
    },
    {
     "name": "stdout",
     "output_type": "stream",
     "text": [
      "Epoch 17: 0.75905\n"
     ]
    },
    {
     "name": "stderr",
     "output_type": "stream",
     "text": [
      "\r",
      " 63%|███████████████████████████████████████████████████▉                              | 19/30 [14:49<08:39, 47.25s/it]"
     ]
    },
    {
     "name": "stdout",
     "output_type": "stream",
     "text": [
      "Epoch 18: 0.76005\n"
     ]
    },
    {
     "name": "stderr",
     "output_type": "stream",
     "text": [
      "\r",
      " 67%|██████████████████████████████████████████████████████▋                           | 20/30 [15:36<07:49, 46.97s/it]"
     ]
    },
    {
     "name": "stdout",
     "output_type": "stream",
     "text": [
      "Epoch 19: 0.7611\n"
     ]
    },
    {
     "name": "stderr",
     "output_type": "stream",
     "text": [
      "\r",
      " 70%|█████████████████████████████████████████████████████████▍                        | 21/30 [16:21<06:58, 46.53s/it]"
     ]
    },
    {
     "name": "stdout",
     "output_type": "stream",
     "text": [
      "Epoch 20: 0.76215\n"
     ]
    },
    {
     "name": "stderr",
     "output_type": "stream",
     "text": [
      "\r",
      " 73%|████████████████████████████████████████████████████████████▏                     | 22/30 [17:06<06:08, 46.07s/it]"
     ]
    },
    {
     "name": "stdout",
     "output_type": "stream",
     "text": [
      "Epoch 21: 0.7655\n"
     ]
    },
    {
     "name": "stderr",
     "output_type": "stream",
     "text": [
      "\r",
      " 77%|██████████████████████████████████████████████████████████████▊                   | 23/30 [17:51<05:20, 45.76s/it]"
     ]
    },
    {
     "name": "stdout",
     "output_type": "stream",
     "text": [
      "Epoch 22: 0.7677\n"
     ]
    },
    {
     "name": "stderr",
     "output_type": "stream",
     "text": [
      "\r",
      " 80%|█████████████████████████████████████████████████████████████████▌                | 24/30 [18:36<04:33, 45.54s/it]"
     ]
    },
    {
     "name": "stdout",
     "output_type": "stream",
     "text": [
      "Epoch 23: 0.76755\n"
     ]
    },
    {
     "name": "stderr",
     "output_type": "stream",
     "text": [
      "\r",
      " 83%|████████████████████████████████████████████████████████████████████▎             | 25/30 [19:22<03:47, 45.53s/it]"
     ]
    },
    {
     "name": "stdout",
     "output_type": "stream",
     "text": [
      "Epoch 24: 0.76635\n"
     ]
    },
    {
     "name": "stderr",
     "output_type": "stream",
     "text": [
      "\r",
      " 87%|███████████████████████████████████████████████████████████████████████           | 26/30 [20:08<03:03, 45.80s/it]"
     ]
    },
    {
     "name": "stdout",
     "output_type": "stream",
     "text": [
      "Epoch 25: 0.76845\n"
     ]
    },
    {
     "name": "stderr",
     "output_type": "stream",
     "text": [
      "\r",
      " 90%|█████████████████████████████████████████████████████████████████████████▊        | 27/30 [20:53<02:16, 45.60s/it]"
     ]
    },
    {
     "name": "stdout",
     "output_type": "stream",
     "text": [
      "Epoch 26: 0.76715\n"
     ]
    },
    {
     "name": "stderr",
     "output_type": "stream",
     "text": [
      "\r",
      " 93%|████████████████████████████████████████████████████████████████████████████▌     | 28/30 [21:38<01:30, 45.43s/it]"
     ]
    },
    {
     "name": "stdout",
     "output_type": "stream",
     "text": [
      "Epoch 27: 0.7688\n"
     ]
    },
    {
     "name": "stderr",
     "output_type": "stream",
     "text": [
      "\r",
      " 97%|███████████████████████████████████████████████████████████████████████████████▎  | 29/30 [22:23<00:45, 45.32s/it]"
     ]
    },
    {
     "name": "stdout",
     "output_type": "stream",
     "text": [
      "Epoch 28: 0.76805\n"
     ]
    },
    {
     "name": "stderr",
     "output_type": "stream",
     "text": [
      "100%|██████████████████████████████████████████████████████████████████████████████████| 30/30 [23:09<00:00, 46.32s/it]"
     ]
    },
    {
     "name": "stdout",
     "output_type": "stream",
     "text": [
      "Epoch 29: 0.76885\n"
     ]
    },
    {
     "name": "stderr",
     "output_type": "stream",
     "text": [
      "\n"
     ]
    }
   ],
   "source": [
    "\n",
    "for epoch in tqdm.trange(epochs):\n",
    "    if epoch % 10 == 0: #Every 10 epochs, reduce LR by 3\n",
    "        for g in optimizer.param_groups:\n",
    "            g['lr'] = g['lr'] / 3 \n",
    "                \n",
    "    train_correct = 0\n",
    "    for data in train_DataLoader:\n",
    "        optimizer.zero_grad()\n",
    "\n",
    "        input_batch = data[\"input\"].float().cuda()\n",
    "        output_targets = data[\"target\"].float().cuda()\n",
    "\n",
    "        train_batch_outputs = model(input_batch, None)\n",
    "\n",
    "        loss = loss_func(train_batch_outputs, output_targets)\n",
    "\n",
    "        correct = (torch.argmax(train_batch_outputs, dim=1) == \n",
    "                       torch.argmax(output_targets,dim=1)).type(torch.FloatTensor)\n",
    "            \n",
    "        train_loss_list.append(loss.item())\n",
    "        \n",
    "        train_correct += int(correct.sum())\n",
    "            \n",
    "        loss.backward()\n",
    "\n",
    "        optimizer.step()\n",
    "        \n",
    "    train_accuracy_list.append(train_correct/train)\n",
    "\n",
    "    with torch.no_grad():\n",
    "        val_correct = 0\n",
    "        for data in val_DataLoader:\n",
    "            input_batch = data[\"input\"].float().cuda()\n",
    "            output_targets = data[\"target\"].float().cuda()\n",
    "            \n",
    "            out = model(input_batch,None)\n",
    "            loss = loss_func(out, output_targets)\n",
    "            correct = (torch.argmax(out, dim=1) == \n",
    "                       torch.argmax(output_targets, dim=1)).type(torch.FloatTensor)\n",
    "            val_correct += int(correct.sum())\n",
    "        validation_accuracy_list.append(val_correct/val)\n",
    "    print(\"Epoch \"+str(epoch+1) + \": \" + str(validation_accuracy_list[-1]))"
   ]
  },
  {
   "cell_type": "code",
   "execution_count": 25,
   "id": "f3b443f1",
   "metadata": {},
   "outputs": [
    {
     "data": {
      "image/png": "[encoded data removed]",
      "text/plain": [
       "<Figure size 1080x648 with 1 Axes>"
      ]
     },
     "metadata": {
      "needs_background": "light"
     },
     "output_type": "display_data"
    },
    {
     "data": {
      "image/png": "[encoded data removed]",
      "text/plain": [
       "<Figure size 1080x648 with 1 Axes>"
      ]
     },
     "metadata": {
      "needs_background": "light"
     },
     "output_type": "display_data"
    },
    {
     "data": {
      "image/png": "[encoded data removed]",
      "text/plain": [
       "<Figure size 1080x648 with 1 Axes>"
      ]
     },
     "metadata": {
      "needs_background": "light"
     },
     "output_type": "display_data"
    }
   ],
   "source": [
    "plt.figure(figsize = (15, 9))\n",
    "plt.subplot(3, 1, 1)\n",
    "plt.plot(train_loss_list, linewidth = 3)\n",
    "plt.ylabel(\"training loss\")\n",
    "plt.xlabel(\"iterations\")\n",
    "sns.despine()\n",
    "\n",
    "plt.figure(figsize = (15, 9))\n",
    "plt.subplot(3, 1, 1)\n",
    "plt.plot(train_accuracy_list, linewidth = 3)\n",
    "plt.ylabel(\"training accuracy\")\n",
    "plt.xlabel(\"iterations\")\n",
    "sns.despine()\n",
    "\n",
    "plt.figure(figsize = (15, 9))\n",
    "plt.subplot(3, 1, 1)\n",
    "plt.plot(validation_accuracy_list, linewidth = 3)\n",
    "plt.ylabel(\"validation accuracy\")\n",
    "plt.xlabel(\"iterations\")\n",
    "sns.despine()"
   ]
  },
  {
   "cell_type": "code",
   "execution_count": null,
   "id": "1c994779",
   "metadata": {},
   "outputs": [],
   "source": []
  },
  {
   "cell_type": "code",
   "execution_count": 26,
   "id": "d0aad6ef",
   "metadata": {},
   "outputs": [
    {
     "name": "stdout",
     "output_type": "stream",
     "text": [
      "[0.71125, 0.712, 0.6923, 0.7273, 0.73915, 0.7436, 0.7452, 0.7438, 0.7515, 0.75435, 0.75675, 0.76275, 0.758, 0.76095, 0.76085, 0.7551, 0.7645, 0.75905, 0.76005, 0.7611, 0.76215, 0.7655, 0.7677, 0.76755, 0.76635, 0.76845, 0.76715, 0.7688, 0.76805, 0.76885]\n"
     ]
    }
   ],
   "source": [
    "print(validation_accuracy_list)"
   ]
  },
  {
   "cell_type": "code",
   "execution_count": null,
   "id": "3f08a44f",
   "metadata": {},
   "outputs": [],
   "source": []
  }
 ],
 "metadata": {
  "kernelspec": {
   "display_name": "Python 3 (ipykernel)",
   "language": "python",
   "name": "python3"
  },
  "language_info": {
   "codemirror_mode": {
    "name": "ipython",
    "version": 3
   },
   "file_extension": ".py",
   "mimetype": "text/x-python",
   "name": "python",
   "nbconvert_exporter": "python",
   "pygments_lexer": "ipython3",
   "version": "3.9.12"
  }
 },
 "nbformat": 4,
 "nbformat_minor": 5
}
